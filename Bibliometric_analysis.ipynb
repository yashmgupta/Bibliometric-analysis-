{
 "cells": [
  {
   "cell_type": "markdown",
   "id": "6052438e",
   "metadata": {},
   "source": [
    "# Corrected Analysis of Edible Insects Research (2015–2025)\n",
    "\n",
    "This notebook the Scopus dataset provided for edible insects research (2015–2025). It verifies key statistics such as publication trends, keyword frequencies, thematic clusters, and country contributions. The analysis is intended to cross‑check and correct the figures reported in the draft manuscript - Dr. Yash M Gupta (c) \n"
   ]
  },
  {
   "cell_type": "code",
   "execution_count": 1,
   "id": "e6fa1c82",
   "metadata": {},
   "outputs": [
    {
     "name": "stdout",
     "output_type": "stream",
     "text": [
      "Documents after filtering: 1585\n"
     ]
    }
   ],
   "source": [
    "\n",
    "import pandas as pd\n",
    "import numpy as np\n",
    "from collections import Counter\n",
    "from itertools import combinations\n",
    "from sklearn.feature_extraction.text import TfidfVectorizer\n",
    "from sklearn.decomposition import NMF\n",
    "\n",
    "# Load dataset\n",
    "file_path = 'scopus (2).csv'\n",
    "df = pd.read_csv(file_path)\n",
    "# convert year to numeric and filter\n",
    "YEAR_START, YEAR_END = 2015, 2025\n",
    "\n",
    "# ensure numeric conversion\n",
    "df['Year'] = pd.to_numeric(df['Year'], errors='coerce')\n",
    "filtered_df = df[(df['Year'] >= YEAR_START) & (df['Year'] <= YEAR_END)].reset_index(drop=True)\n",
    "print('Documents after filtering:', filtered_df.shape[0])\n"
   ]
  },
  {
   "cell_type": "code",
   "execution_count": 2,
   "id": "3bb90776",
   "metadata": {},
   "outputs": [
    {
     "name": "stdout",
     "output_type": "stream",
     "text": [
      "2015     88\n",
      "2016     59\n",
      "2017     89\n",
      "2018    105\n",
      "2019    105\n",
      "2020    149\n",
      "2021    160\n",
      "2022    181\n",
      "2023    198\n",
      "2024    247\n",
      "2025    204\n",
      "Name: Year, dtype: int64\n"
     ]
    }
   ],
   "source": [
    "\n",
    "# Publication count per year\n",
    "pub_counts = filtered_df['Year'].value_counts().sort_index()\n",
    "print(pub_counts)\n"
   ]
  },
  {
   "cell_type": "code",
   "execution_count": 3,
   "id": "1f0ae75c",
   "metadata": {},
   "outputs": [
    {
     "name": "stdout",
     "output_type": "stream",
     "text": [
      "                   Keyword  Frequency\n",
      "0           edible insects        242\n",
      "1              entomophagy        212\n",
      "2            edible insect         57\n",
      "3           sustainability         54\n",
      "4            food security         54\n",
      "5                  insects         53\n",
      "6              food safety         51\n",
      "7               novel food         41\n",
      "8                nutrition         40\n",
      "9                  cricket         33\n",
      "10             fatty acids         32\n",
      "11                  insect         32\n",
      "12                    food         31\n",
      "13       acheta domesticus         30\n",
      "14          insect farming         30\n",
      "15                 protein         29\n",
      "16           aedes aegypti         29\n",
      "17          insect protein         28\n",
      "18     alternative protein         28\n",
      "19  insecticide resistance         27\n"
     ]
    }
   ],
   "source": [
    "\n",
    "# Split author keywords by semicolon, lower‑case\n",
    "filtered_df['Author Keywords'] = filtered_df['Author Keywords'].fillna('').str.lower()\n",
    "filtered_df['Keyword_List'] = filtered_df['Author Keywords'].apply(lambda x: [k.strip() for k in x.split(';') if k.strip()])\n",
    "\n",
    "# Flatten and count frequencies\n",
    "all_keywords = [kw for sublist in filtered_df['Keyword_List'] for kw in sublist]\n",
    "keyword_freq = Counter(all_keywords)\n",
    "\n",
    "# Top 20 keywords\n",
    "top20 = keyword_freq.most_common(20)\n",
    "import pandas as pd\n",
    "top20_df = pd.DataFrame(top20, columns=['Keyword','Frequency'])\n",
    "print(top20_df)\n"
   ]
  },
  {
   "cell_type": "code",
   "execution_count": 5,
   "id": "40ba28f5",
   "metadata": {},
   "outputs": [
    {
     "data": {
      "image/png": "[encoded data removed]",
      "text/plain": [
       "<Figure size 720x432 with 1 Axes>"
      ]
     },
     "metadata": {
      "needs_background": "light"
     },
     "output_type": "display_data"
    },
    {
     "data": {
      "text/html": [
       "<div>\n",
       "<style scoped>\n",
       "    .dataframe tbody tr th:only-of-type {\n",
       "        vertical-align: middle;\n",
       "    }\n",
       "\n",
       "    .dataframe tbody tr th {\n",
       "        vertical-align: top;\n",
       "    }\n",
       "\n",
       "    .dataframe thead th {\n",
       "        text-align: right;\n",
       "    }\n",
       "</style>\n",
       "<table border=\"1\" class=\"dataframe\">\n",
       "  <thead>\n",
       "    <tr style=\"text-align: right;\">\n",
       "      <th></th>\n",
       "      <th>PluralLabel</th>\n",
       "      <th>Frequency</th>\n",
       "    </tr>\n",
       "  </thead>\n",
       "  <tbody>\n",
       "    <tr>\n",
       "      <th>4</th>\n",
       "      <td>edible insects</td>\n",
       "      <td>299</td>\n",
       "    </tr>\n",
       "    <tr>\n",
       "      <th>5</th>\n",
       "      <td>entomophagy</td>\n",
       "      <td>212</td>\n",
       "    </tr>\n",
       "    <tr>\n",
       "      <th>13</th>\n",
       "      <td>insects</td>\n",
       "      <td>85</td>\n",
       "    </tr>\n",
       "    <tr>\n",
       "      <th>9</th>\n",
       "      <td>food security</td>\n",
       "      <td>54</td>\n",
       "    </tr>\n",
       "    <tr>\n",
       "      <th>17</th>\n",
       "      <td>sustainability</td>\n",
       "      <td>54</td>\n",
       "    </tr>\n",
       "    <tr>\n",
       "      <th>8</th>\n",
       "      <td>food safety</td>\n",
       "      <td>51</td>\n",
       "    </tr>\n",
       "    <tr>\n",
       "      <th>14</th>\n",
       "      <td>novel food</td>\n",
       "      <td>41</td>\n",
       "    </tr>\n",
       "    <tr>\n",
       "      <th>15</th>\n",
       "      <td>nutrition</td>\n",
       "      <td>40</td>\n",
       "    </tr>\n",
       "    <tr>\n",
       "      <th>3</th>\n",
       "      <td>cricket</td>\n",
       "      <td>33</td>\n",
       "    </tr>\n",
       "    <tr>\n",
       "      <th>6</th>\n",
       "      <td>fatty acids</td>\n",
       "      <td>32</td>\n",
       "    </tr>\n",
       "    <tr>\n",
       "      <th>7</th>\n",
       "      <td>food</td>\n",
       "      <td>31</td>\n",
       "    </tr>\n",
       "    <tr>\n",
       "      <th>10</th>\n",
       "      <td>insect farming</td>\n",
       "      <td>30</td>\n",
       "    </tr>\n",
       "    <tr>\n",
       "      <th>0</th>\n",
       "      <td>acheta domesticus</td>\n",
       "      <td>30</td>\n",
       "    </tr>\n",
       "    <tr>\n",
       "      <th>1</th>\n",
       "      <td>aedes aegypti</td>\n",
       "      <td>29</td>\n",
       "    </tr>\n",
       "    <tr>\n",
       "      <th>16</th>\n",
       "      <td>protein</td>\n",
       "      <td>29</td>\n",
       "    </tr>\n",
       "    <tr>\n",
       "      <th>11</th>\n",
       "      <td>insect protein</td>\n",
       "      <td>28</td>\n",
       "    </tr>\n",
       "    <tr>\n",
       "      <th>2</th>\n",
       "      <td>alternative protein</td>\n",
       "      <td>28</td>\n",
       "    </tr>\n",
       "    <tr>\n",
       "      <th>12</th>\n",
       "      <td>insecticide resistance</td>\n",
       "      <td>27</td>\n",
       "    </tr>\n",
       "  </tbody>\n",
       "</table>\n",
       "</div>"
      ],
      "text/plain": [
       "               PluralLabel  Frequency\n",
       "4           edible insects        299\n",
       "5              entomophagy        212\n",
       "13                 insects         85\n",
       "9            food security         54\n",
       "17          sustainability         54\n",
       "8              food safety         51\n",
       "14              novel food         41\n",
       "15               nutrition         40\n",
       "3                  cricket         33\n",
       "6              fatty acids         32\n",
       "7                     food         31\n",
       "10          insect farming         30\n",
       "0        acheta domesticus         30\n",
       "1            aedes aegypti         29\n",
       "16                 protein         29\n",
       "11          insect protein         28\n",
       "2      alternative protein         28\n",
       "12  insecticide resistance         27"
      ]
     },
     "execution_count": 5,
     "metadata": {},
     "output_type": "execute_result"
    }
   ],
   "source": [
    "import pandas as pd\n",
    "import matplotlib.pyplot as plt\n",
    "\n",
    "# Input data\n",
    "data = {\n",
    "    \"Keyword\": [\n",
    "        \"edible insects\", \"entomophagy\", \"edible insect\", \"sustainability\", \"food security\",\n",
    "        \"insects\", \"food safety\", \"novel food\", \"nutrition\", \"cricket\",\n",
    "        \"fatty acids\", \"insect\", \"food\", \"acheta domesticus\", \"insect farming\",\n",
    "        \"protein\", \"aedes aegypti\", \"insect protein\", \"alternative protein\", \"insecticide resistance\"\n",
    "    ],\n",
    "    \"Frequency\": [\n",
    "        242, 212, 57, 54, 54,\n",
    "        53, 51, 41, 40, 33,\n",
    "        32, 32, 31, 30, 30,\n",
    "        29, 29, 28, 28, 27\n",
    "    ]\n",
    "}\n",
    "\n",
    "# Create DataFrame\n",
    "df = pd.DataFrame(data)\n",
    "# Adjust aggregation to keep plural labels but still sum singular + plural frequencies\n",
    "\n",
    "# Map singular -> plural label if plural exists in dataset\n",
    "def keep_plural_label(keyword):\n",
    "    if keyword.endswith(\"s\"):  # plural case\n",
    "        return keyword\n",
    "    elif keyword + \"s\" in df[\"Keyword\"].values:  # if plural exists, map singular to plural\n",
    "        return keyword + \"s\"\n",
    "    else:\n",
    "        return keyword\n",
    "\n",
    "df[\"PluralLabel\"] = df[\"Keyword\"].apply(keep_plural_label)\n",
    "\n",
    "# Aggregate again\n",
    "df_plural = df.groupby(\"PluralLabel\", as_index=False)[\"Frequency\"].sum().sort_values(by=\"Frequency\", ascending=False)\n",
    "\n",
    "# Plot with plural labels\n",
    "plt.figure(figsize=(10,6))\n",
    "plt.barh(df_plural[\"PluralLabel\"], df_plural[\"Frequency\"])\n",
    "plt.gca().invert_yaxis()\n",
    "plt.title(\"Keyword Frequency (Summed with Plural Labels)\")\n",
    "plt.xlabel(\"Frequency\")\n",
    "plt.ylabel(\"Keyword\")\n",
    "plt.show()\n",
    "\n",
    "df_plural\n",
    "\n"
   ]
  },
  {
   "cell_type": "code",
   "execution_count": 6,
   "id": "b76fa7c2",
   "metadata": {},
   "outputs": [
    {
     "name": "stdout",
     "output_type": "stream",
     "text": [
      "                          Keyword Pair  Co-occurrence\n",
      "0        (edible insects, entomophagy)             59\n",
      "1         (entomophagy, food security)             26\n",
      "2        (edible insects, food safety)             21\n",
      "3     (edible insects, sustainability)             20\n",
      "4      (edible insects, food security)             19\n",
      "5           (entomophagy, food safety)             18\n",
      "6        (entomophagy, sustainability)             15\n",
      "7            (entomophagy, novel food)             14\n",
      "8          (edible insects, nutrition)             14\n",
      "9           (amino acids, fatty acids)             13\n",
      "10        (edible insects, novel food)             12\n",
      "11              (entomophagy, insects)             12\n",
      "12            (entomophagy, nutrition)             12\n",
      "13        (edible insect, entomophagy)             11\n",
      "14       (entomophagy, insect farming)             11\n",
      "15    (edible insects, insect farming)             11\n",
      "16          (food safety, novel foods)             10\n",
      "17  (consumer acceptance, entomophagy)             10\n",
      "18                 (entomophagy, food)             10\n",
      "19                        (feed, food)              9\n"
     ]
    }
   ],
   "source": [
    "from itertools import combinations\n",
    "\n",
    "# Build co-occurrence counter\n",
    "co_counter = Counter()\n",
    "\n",
    "for kws in filtered_df['Keyword_List']:\n",
    "    kws_set = set(kws)   # unique per document\n",
    "    for combo in combinations(sorted(kws_set), 2):  # all 2-pairs in this row\n",
    "        co_counter[combo] += 1\n",
    "\n",
    "# Get Top 20 co-occurring pairs\n",
    "top20_co = co_counter.most_common(20)\n",
    "\n",
    "# Put into DataFrame for nicer view\n",
    "top20_co_df = pd.DataFrame(top20_co, columns=['Keyword Pair','Co-occurrence'])\n",
    "print(top20_co_df)\n"
   ]
  },
  {
   "cell_type": "code",
   "execution_count": null,
   "id": "3cb5e116",
   "metadata": {},
   "outputs": [
    {
     "name": "stdout",
     "output_type": "stream",
     "text": [
      "\n",
      "Top 20 Co-occurrence Pairs:\n",
      "                   source               target  weight\n",
      "408        edible insects          entomophagy      59\n",
      "586           entomophagy        food security      26\n",
      "436        edible insects          food safety      21\n",
      "279        edible insects       sustainability      20\n",
      "1973       edible insects        food security      19\n",
      "440           entomophagy          food safety      18\n",
      "1280          entomophagy       sustainability      15\n",
      "489           entomophagy           novel food      14\n",
      "4889       edible insects            nutrition      14\n",
      "4122          amino acids          fatty acids      13\n",
      "903        edible insects           novel food      12\n",
      "5032          entomophagy            nutrition      12\n",
      "3987          entomophagy              insects      12\n",
      "7459       edible insects       insect farming      11\n",
      "579         edible insect          entomophagy      11\n",
      "3754          entomophagy       insect farming      11\n",
      "2035  consumer acceptance          entomophagy      10\n",
      "3985          entomophagy                 food      10\n",
      "1538          food safety          novel foods      10\n",
      "3104    acheta domesticus  gryllus bimaculatus       9\n"
     ]
    },
    {
     "data": {
      "image/png": "[encoded data removed]",
      "text/plain": [
       "<Figure size 864x720 with 1 Axes>"
      ]
     },
     "metadata": {},
     "output_type": "display_data"
    }
   ],
   "source": [
    "import pandas as pd\n",
    "import re\n",
    "from collections import Counter\n",
    "from itertools import combinations\n",
    "import networkx as nx   # <-- this was missing\n",
    "import matplotlib.pyplot as plt\n",
    "\n",
    "\n",
    "file_path = \"scopus (2).csv\"  # change to your filename\n",
    "df = pd.read_csv(file_path)\n",
    "\n",
    "\n",
    "# Redo\n",
    "df_year_filtered = df[(df['Year'] >= 2015) & (df['Year'] <= 2025)].copy()\n",
    "df_year_filtered['Author Keywords'] = df_year_filtered['Author Keywords'].fillna('').str.lower()\n",
    "df_year_filtered['Keyword_List'] = df_year_filtered['Author Keywords'].apply(\n",
    "    lambda x: [kw.strip() for kw in re.split(r';|,', x) if kw.strip()]\n",
    ")\n",
    "\n",
    "edge_counts = Counter()\n",
    "for kws in df_year_filtered['Keyword_List']:\n",
    "    for a, b in combinations(sorted(set(kws)), 2):  # unique per document\n",
    "        edge_counts[(a, b)] += 1\n",
    "\n",
    "# Convert to DataFrame\n",
    "edges_df = pd.DataFrame([(*k, v) for k, v in edge_counts.items()],\n",
    "                        columns=[\"source\", \"target\", \"weight\"]).sort_values(\"weight\", ascending=False)\n",
    "\n",
    "print(\"\\nTop 20 Co-occurrence Pairs:\")\n",
    "print(edges_df.head(20))\n",
    "\n",
    "# -------------------------------\n",
    "# Step 4: Build NetworkX Graph\n",
    "# -------------------------------\n",
    "G = nx.Graph()\n",
    "\n",
    "# Node frequencies (unique-row frequency)\n",
    "keyword_counts = Counter([kw for kws in df_year_filtered['Keyword_List'] for kw in set(kws)])\n",
    "for kw, freq in keyword_counts.items():\n",
    "    G.add_node(kw, frequency=freq)\n",
    "\n",
    "# Add edges with threshold ≥ 5\n",
    "for s, t, w in edges_df.itertuples(index=False):\n",
    "    if w >= 5:\n",
    "        G.add_edge(s, t, weight=w)\n",
    "\n",
    "# -------------------------------\n",
    "# Step 5: Compute node strength\n",
    "# -------------------------------\n",
    "strength = {n: sum(d['weight'] for _, _, d in G.edges(n, data=True)) for n in G.nodes()}\n",
    "\n",
    "# Top 30 strongest nodes\n",
    "top_nodes = set(sorted(strength, key=strength.get, reverse=True)[:30])\n",
    "H = G.subgraph(top_nodes)\n",
    "\n",
    "# -------------------------------\n",
    "# Step 6: Plot Network\n",
    "# -------------------------------\n",
    "plt.figure(figsize=(12, 10))\n",
    "pos = nx.spring_layout(H, seed=42, k=0.35)\n",
    "\n",
    "# Draw nodes sized by strength\n",
    "nx.draw_networkx_nodes(\n",
    "    H, pos,\n",
    "    node_size=[5 + 3 * strength[n] for n in H.nodes()],\n",
    "    node_color=\"skyblue\",\n",
    "    alpha=0.8\n",
    ")\n",
    "\n",
    "# Draw edges sized by weight\n",
    "nx.draw_networkx_edges(\n",
    "    H, pos,\n",
    "    width=[d['weight'] * 0.3 for _, _, d in H.edges(data=True)],\n",
    "    alpha=0.5\n",
    ")\n",
    "\n",
    "# Draw labels\n",
    "nx.draw_networkx_labels(H, pos, font_size=8)\n",
    "\n",
    "plt.title(\"Keyword Co-occurrence Network (Threshold ≥ 5, Top 30 Nodes, 2015–2025)\", fontsize=12)\n",
    "plt.axis(\"off\")\n",
    "plt.show()\n"
   ]
  },
  {
   "cell_type": "code",
   "execution_count": 16,
   "id": "2a703892",
   "metadata": {},
   "outputs": [
    {
     "name": "stdout",
     "output_type": "stream",
     "text": [
      "Topic 0: insects, food, edible, insect, consumption, entomophagy, products, production, foods, sustainable\n",
      "Topic 1: resistance, ae, aegypti, populations, insecticide, mutations, kdr, pyrethroid, deltamethrin, vector\n",
      "Topic 2: protein, acids, cricket, acid, content, fatty, powder, 100, mg, properties\n",
      "Topic 3: feed, meal, fish, diets, fed, diet, crickets, growth, cricket, production\n",
      "Topic 4: species, genetic, coi, dna, diversity, anopheles, specimens, gene, sequences, genes\n",
      "Topic 5: peptides, proteins, infection, venom, expression, activity, cells, shrimp, mosquito, anti\n",
      "Document counts per topic:\n",
      "Topic 0: 470\n",
      "Topic 1: 97\n",
      "Topic 2: 351\n",
      "Topic 3: 180\n",
      "Topic 4: 164\n",
      "Topic 5: 323\n"
     ]
    }
   ],
   "source": [
    "\n",
    "# Prepare abstracts and apply TF‑IDF and NMF\n",
    "abstracts = filtered_df['Abstract'].fillna('').astype(str)\n",
    "vectorizer = TfidfVectorizer(max_df=0.95, min_df=5, stop_words='english', max_features=5000)\n",
    "X = vectorizer.fit_transform(abstracts)\n",
    "\n",
    "nmf = NMF(n_components=6, random_state=42, init='nndsvd', max_iter=200)\n",
    "W = nmf.fit_transform(X)\n",
    "H = nmf.components_\n",
    "\n",
    "try:\n",
    "    feature_names = vectorizer.get_feature_names_out()\n",
    "except AttributeError:\n",
    "    feature_names = vectorizer.get_feature_names()\n",
    "\n",
    "# Display top terms for each topic\n",
    "for i, topic in enumerate(H):\n",
    "    top_indices = topic.argsort()[::-1][:10]\n",
    "    top_terms = [feature_names[j] for j in top_indices]\n",
    "    print(f\"Topic {i}: {', '.join(top_terms)}\")\n",
    "\n",
    "# Assign dominant topic to each document\n",
    "dominant_topics = W.argmax(axis=1)\n",
    "filtered_df['Dominant_Topic'] = dominant_topics\n",
    "\n",
    "# Topic distribution\n",
    "import numpy as np\n",
    "topic_counts = np.bincount(dominant_topics, minlength=6)\n",
    "print('Document counts per topic:')\n",
    "for i, count in enumerate(topic_counts):\n",
    "    print(f\"Topic {i}: {count}\")\n"
   ]
  },
  {
   "cell_type": "code",
   "execution_count": 17,
   "id": "0b3b6696",
   "metadata": {},
   "outputs": [
    {
     "data": {
      "image/png": "[encoded data removed]",
      "text/plain": [
       "<Figure size 576x576 with 1 Axes>"
      ]
     },
     "metadata": {},
     "output_type": "display_data"
    }
   ],
   "source": [
    "# Input data for topics\n",
    "topic_data = {\n",
    "    \"Topic\": [\"Topic 0\", \"Topic 1\", \"Topic 2\", \"Topic 3\", \"Topic 4\", \"Topic 5\"],\n",
    "    \"Count\": [470, 97, 351, 180, 164, 323]\n",
    "}\n",
    "\n",
    "df_topic = pd.DataFrame(topic_data)\n",
    "\n",
    "# Donut plot\n",
    "plt.figure(figsize=(8,8))\n",
    "colors = plt.cm.tab20.colors\n",
    "\n",
    "# Pie chart with a hole in the middle\n",
    "wedges, texts, autotexts = plt.pie(\n",
    "    df_topic[\"Count\"],\n",
    "    labels=df_topic[\"Topic\"],\n",
    "    autopct='%1.1f%%',\n",
    "    startangle=140,\n",
    "    colors=colors,\n",
    "    wedgeprops={'linewidth': 1, 'edgecolor': 'white'}\n",
    ")\n",
    "\n",
    "# Draw circle for donut effect\n",
    "centre_circle = plt.Circle((0,0),0.70,fc='white')\n",
    "fig = plt.gcf()\n",
    "fig.gca().add_artist(centre_circle)\n",
    "\n",
    "plt.title(\"Topic Distribution (Donut Plot)\")\n",
    "plt.tight_layout()\n",
    "plt.show()\n"
   ]
  },
  {
   "cell_type": "code",
   "execution_count": 18,
   "id": "e33afd14",
   "metadata": {},
   "outputs": [
    {
     "name": "stdout",
     "output_type": "stream",
     "text": [
      "           Country  Document_Count\n",
      "0         Thailand             344\n",
      "1    United States             211\n",
      "2            China             207\n",
      "3          Germany             113\n",
      "4            India             112\n",
      "5            Italy             100\n",
      "6   United Kingdom              94\n",
      "7            Kenya              69\n",
      "8            Japan              67\n",
      "9      South Korea              67\n",
      "10     Netherlands              66\n",
      "11        Malaysia              64\n",
      "12          Mexico              59\n",
      "13         Denmark              59\n",
      "14          France              57\n"
     ]
    }
   ],
   "source": [
    "\n",
    "import re\n",
    "# Extract country names from the Affiliations field\n",
    "country_docs = {}\n",
    "for aff in filtered_df['Affiliations'].fillna(''):\n",
    "    countries = set()\n",
    "    for part in aff.split(';'):\n",
    "        country = re.sub(r'\\d+', '', part.split(',')[-1]).strip()\n",
    "        if country:\n",
    "            countries.add(country)\n",
    "    for c in countries:\n",
    "        country_docs[c] = country_docs.get(c, 0) + 1\n",
    "\n",
    "# Convert to DataFrame and show top 15\n",
    "country_df = pd.DataFrame(sorted(country_docs.items(), key=lambda x: x[1], reverse=True), columns=['Country','Document_Count'])\n",
    "print(country_df.head(15))\n"
   ]
  },
  {
   "cell_type": "code",
   "execution_count": 19,
   "id": "5989e9e9",
   "metadata": {},
   "outputs": [
    {
     "data": {
      "image/png": "[encoded data removed]",
      "text/plain": [
       "<Figure size 720x432 with 1 Axes>"
      ]
     },
     "metadata": {
      "needs_background": "light"
     },
     "output_type": "display_data"
    }
   ],
   "source": [
    "# Input data for countries and document counts\n",
    "country_data = {\n",
    "    \"Country\": [\n",
    "        \"Thailand\", \"United States\", \"China\", \"Germany\", \"India\", \"Italy\",\n",
    "        \"United Kingdom\", \"Kenya\", \"Japan\", \"South Korea\", \"Netherlands\",\n",
    "        \"Malaysia\", \"Mexico\", \"Denmark\", \"France\"\n",
    "    ],\n",
    "    \"Document_Count\": [\n",
    "        344, 211, 207, 113, 112, 100,\n",
    "        94, 69, 67, 67, 66,\n",
    "        64, 59, 59, 57\n",
    "    ]\n",
    "}\n",
    "\n",
    "df_country = pd.DataFrame(country_data)\n",
    "\n",
    "# Plot horizontal bar chart\n",
    "plt.figure(figsize=(10,6))\n",
    "plt.barh(df_country[\"Country\"], df_country[\"Document_Count\"], color=\"skyblue\")\n",
    "plt.gca().invert_yaxis()\n",
    "\n",
    "plt.title(\"Top 15 Countries by Document Count in Edible Insect Research (2015–2025)\")\n",
    "plt.xlabel(\"Document Count\")\n",
    "plt.ylabel(\"Country\")\n",
    "\n",
    "# Annotate counts on bars\n",
    "for i, v in enumerate(df_country[\"Document_Count\"]):\n",
    "    plt.text(v + 3, i, str(v), va='center')\n",
    "\n",
    "plt.tight_layout()\n",
    "plt.show()\n"
   ]
  },
  {
   "cell_type": "code",
   "execution_count": 20,
   "id": "8e9c451e",
   "metadata": {},
   "outputs": [
    {
     "data": {
      "application/vnd.plotly.v1+json": {
       "config": {
        "plotlyServerURL": "https://plot.ly"
       },
       "data": [
        {
         "coloraxis": "coloraxis",
         "geo": "geo",
         "hovertemplate": "<b>%{hovertext}</b><br><br>Country=%{location}<br>Document_Count=%{z}<extra></extra>",
         "hovertext": [
          "Thailand",
          "United States",
          "China",
          "Germany",
          "India",
          "Italy",
          "United Kingdom",
          "Kenya",
          "Japan",
          "South Korea",
          "Netherlands",
          "Malaysia",
          "Mexico",
          "Denmark",
          "France"
         ],
         "locationmode": "country names",
         "locations": [
          "Thailand",
          "United States",
          "China",
          "Germany",
          "India",
          "Italy",
          "United Kingdom",
          "Kenya",
          "Japan",
          "South Korea",
          "Netherlands",
          "Malaysia",
          "Mexico",
          "Denmark",
          "France"
         ],
         "name": "",
         "type": "choropleth",
         "z": [
          344,
          211,
          207,
          113,
          112,
          100,
          94,
          69,
          67,
          67,
          66,
          64,
          59,
          59,
          57
         ]
        }
       ],
       "layout": {
        "coloraxis": {
         "colorbar": {
          "title": {
           "text": "Document_Count"
          }
         },
         "colorscale": [
          [
           0,
           "rgb(247,251,255)"
          ],
          [
           0.125,
           "rgb(222,235,247)"
          ],
          [
           0.25,
           "rgb(198,219,239)"
          ],
          [
           0.375,
           "rgb(158,202,225)"
          ],
          [
           0.5,
           "rgb(107,174,214)"
          ],
          [
           0.625,
           "rgb(66,146,198)"
          ],
          [
           0.75,
           "rgb(33,113,181)"
          ],
          [
           0.875,
           "rgb(8,81,156)"
          ],
          [
           1,
           "rgb(8,48,107)"
          ]
         ]
        },
        "geo": {
         "center": {},
         "domain": {
          "x": [
           0,
           1
          ],
          "y": [
           0,
           1
          ]
         }
        },
        "height": 700,
        "legend": {
         "tracegroupgap": 0
        },
        "template": {
         "data": {
          "bar": [
           {
            "error_x": {
             "color": "#2a3f5f"
            },
            "error_y": {
             "color": "#2a3f5f"
            },
            "marker": {
             "line": {
              "color": "#E5ECF6",
              "width": 0.5
             },
             "pattern": {
              "fillmode": "overlay",
              "size": 10,
              "solidity": 0.2
             }
            },
            "type": "bar"
           }
          ],
          "barpolar": [
           {
            "marker": {
             "line": {
              "color": "#E5ECF6",
              "width": 0.5
             },
             "pattern": {
              "fillmode": "overlay",
              "size": 10,
              "solidity": 0.2
             }
            },
            "type": "barpolar"
           }
          ],
          "carpet": [
           {
            "aaxis": {
             "endlinecolor": "#2a3f5f",
             "gridcolor": "white",
             "linecolor": "white",
             "minorgridcolor": "white",
             "startlinecolor": "#2a3f5f"
            },
            "baxis": {
             "endlinecolor": "#2a3f5f",
             "gridcolor": "white",
             "linecolor": "white",
             "minorgridcolor": "white",
             "startlinecolor": "#2a3f5f"
            },
            "type": "carpet"
           }
          ],
          "choropleth": [
           {
            "colorbar": {
             "outlinewidth": 0,
             "ticks": ""
            },
            "type": "choropleth"
           }
          ],
          "contour": [
           {
            "colorbar": {
             "outlinewidth": 0,
             "ticks": ""
            },
            "colorscale": [
             [
              0,
              "#0d0887"
             ],
             [
              0.1111111111111111,
              "#46039f"
             ],
             [
              0.2222222222222222,
              "#7201a8"
             ],
             [
              0.3333333333333333,
              "#9c179e"
             ],
             [
              0.4444444444444444,
              "#bd3786"
             ],
             [
              0.5555555555555556,
              "#d8576b"
             ],
             [
              0.6666666666666666,
              "#ed7953"
             ],
             [
              0.7777777777777778,
              "#fb9f3a"
             ],
             [
              0.8888888888888888,
              "#fdca26"
             ],
             [
              1,
              "#f0f921"
             ]
            ],
            "type": "contour"
           }
          ],
          "contourcarpet": [
           {
            "colorbar": {
             "outlinewidth": 0,
             "ticks": ""
            },
            "type": "contourcarpet"
           }
          ],
          "heatmap": [
           {
            "colorbar": {
             "outlinewidth": 0,
             "ticks": ""
            },
            "colorscale": [
             [
              0,
              "#0d0887"
             ],
             [
              0.1111111111111111,
              "#46039f"
             ],
             [
              0.2222222222222222,
              "#7201a8"
             ],
             [
              0.3333333333333333,
              "#9c179e"
             ],
             [
              0.4444444444444444,
              "#bd3786"
             ],
             [
              0.5555555555555556,
              "#d8576b"
             ],
             [
              0.6666666666666666,
              "#ed7953"
             ],
             [
              0.7777777777777778,
              "#fb9f3a"
             ],
             [
              0.8888888888888888,
              "#fdca26"
             ],
             [
              1,
              "#f0f921"
             ]
            ],
            "type": "heatmap"
           }
          ],
          "heatmapgl": [
           {
            "colorbar": {
             "outlinewidth": 0,
             "ticks": ""
            },
            "colorscale": [
             [
              0,
              "#0d0887"
             ],
             [
              0.1111111111111111,
              "#46039f"
             ],
             [
              0.2222222222222222,
              "#7201a8"
             ],
             [
              0.3333333333333333,
              "#9c179e"
             ],
             [
              0.4444444444444444,
              "#bd3786"
             ],
             [
              0.5555555555555556,
              "#d8576b"
             ],
             [
              0.6666666666666666,
              "#ed7953"
             ],
             [
              0.7777777777777778,
              "#fb9f3a"
             ],
             [
              0.8888888888888888,
              "#fdca26"
             ],
             [
              1,
              "#f0f921"
             ]
            ],
            "type": "heatmapgl"
           }
          ],
          "histogram": [
           {
            "marker": {
             "pattern": {
              "fillmode": "overlay",
              "size": 10,
              "solidity": 0.2
             }
            },
            "type": "histogram"
           }
          ],
          "histogram2d": [
           {
            "colorbar": {
             "outlinewidth": 0,
             "ticks": ""
            },
            "colorscale": [
             [
              0,
              "#0d0887"
             ],
             [
              0.1111111111111111,
              "#46039f"
             ],
             [
              0.2222222222222222,
              "#7201a8"
             ],
             [
              0.3333333333333333,
              "#9c179e"
             ],
             [
              0.4444444444444444,
              "#bd3786"
             ],
             [
              0.5555555555555556,
              "#d8576b"
             ],
             [
              0.6666666666666666,
              "#ed7953"
             ],
             [
              0.7777777777777778,
              "#fb9f3a"
             ],
             [
              0.8888888888888888,
              "#fdca26"
             ],
             [
              1,
              "#f0f921"
             ]
            ],
            "type": "histogram2d"
           }
          ],
          "histogram2dcontour": [
           {
            "colorbar": {
             "outlinewidth": 0,
             "ticks": ""
            },
            "colorscale": [
             [
              0,
              "#0d0887"
             ],
             [
              0.1111111111111111,
              "#46039f"
             ],
             [
              0.2222222222222222,
              "#7201a8"
             ],
             [
              0.3333333333333333,
              "#9c179e"
             ],
             [
              0.4444444444444444,
              "#bd3786"
             ],
             [
              0.5555555555555556,
              "#d8576b"
             ],
             [
              0.6666666666666666,
              "#ed7953"
             ],
             [
              0.7777777777777778,
              "#fb9f3a"
             ],
             [
              0.8888888888888888,
              "#fdca26"
             ],
             [
              1,
              "#f0f921"
             ]
            ],
            "type": "histogram2dcontour"
           }
          ],
          "mesh3d": [
           {
            "colorbar": {
             "outlinewidth": 0,
             "ticks": ""
            },
            "type": "mesh3d"
           }
          ],
          "parcoords": [
           {
            "line": {
             "colorbar": {
              "outlinewidth": 0,
              "ticks": ""
             }
            },
            "type": "parcoords"
           }
          ],
          "pie": [
           {
            "automargin": true,
            "type": "pie"
           }
          ],
          "scatter": [
           {
            "marker": {
             "colorbar": {
              "outlinewidth": 0,
              "ticks": ""
             }
            },
            "type": "scatter"
           }
          ],
          "scatter3d": [
           {
            "line": {
             "colorbar": {
              "outlinewidth": 0,
              "ticks": ""
             }
            },
            "marker": {
             "colorbar": {
              "outlinewidth": 0,
              "ticks": ""
             }
            },
            "type": "scatter3d"
           }
          ],
          "scattercarpet": [
           {
            "marker": {
             "colorbar": {
              "outlinewidth": 0,
              "ticks": ""
             }
            },
            "type": "scattercarpet"
           }
          ],
          "scattergeo": [
           {
            "marker": {
             "colorbar": {
              "outlinewidth": 0,
              "ticks": ""
             }
            },
            "type": "scattergeo"
           }
          ],
          "scattergl": [
           {
            "marker": {
             "colorbar": {
              "outlinewidth": 0,
              "ticks": ""
             }
            },
            "type": "scattergl"
           }
          ],
          "scattermapbox": [
           {
            "marker": {
             "colorbar": {
              "outlinewidth": 0,
              "ticks": ""
             }
            },
            "type": "scattermapbox"
           }
          ],
          "scatterpolar": [
           {
            "marker": {
             "colorbar": {
              "outlinewidth": 0,
              "ticks": ""
             }
            },
            "type": "scatterpolar"
           }
          ],
          "scatterpolargl": [
           {
            "marker": {
             "colorbar": {
              "outlinewidth": 0,
              "ticks": ""
             }
            },
            "type": "scatterpolargl"
           }
          ],
          "scatterternary": [
           {
            "marker": {
             "colorbar": {
              "outlinewidth": 0,
              "ticks": ""
             }
            },
            "type": "scatterternary"
           }
          ],
          "surface": [
           {
            "colorbar": {
             "outlinewidth": 0,
             "ticks": ""
            },
            "colorscale": [
             [
              0,
              "#0d0887"
             ],
             [
              0.1111111111111111,
              "#46039f"
             ],
             [
              0.2222222222222222,
              "#7201a8"
             ],
             [
              0.3333333333333333,
              "#9c179e"
             ],
             [
              0.4444444444444444,
              "#bd3786"
             ],
             [
              0.5555555555555556,
              "#d8576b"
             ],
             [
              0.6666666666666666,
              "#ed7953"
             ],
             [
              0.7777777777777778,
              "#fb9f3a"
             ],
             [
              0.8888888888888888,
              "#fdca26"
             ],
             [
              1,
              "#f0f921"
             ]
            ],
            "type": "surface"
           }
          ],
          "table": [
           {
            "cells": {
             "fill": {
              "color": "#EBF0F8"
             },
             "line": {
              "color": "white"
             }
            },
            "header": {
             "fill": {
              "color": "#C8D4E3"
             },
             "line": {
              "color": "white"
             }
            },
            "type": "table"
           }
          ]
         },
         "layout": {
          "annotationdefaults": {
           "arrowcolor": "#2a3f5f",
           "arrowhead": 0,
           "arrowwidth": 1
          },
          "autotypenumbers": "strict",
          "coloraxis": {
           "colorbar": {
            "outlinewidth": 0,
            "ticks": ""
           }
          },
          "colorscale": {
           "diverging": [
            [
             0,
             "#8e0152"
            ],
            [
             0.1,
             "#c51b7d"
            ],
            [
             0.2,
             "#de77ae"
            ],
            [
             0.3,
             "#f1b6da"
            ],
            [
             0.4,
             "#fde0ef"
            ],
            [
             0.5,
             "#f7f7f7"
            ],
            [
             0.6,
             "#e6f5d0"
            ],
            [
             0.7,
             "#b8e186"
            ],
            [
             0.8,
             "#7fbc41"
            ],
            [
             0.9,
             "#4d9221"
            ],
            [
             1,
             "#276419"
            ]
           ],
           "sequential": [
            [
             0,
             "#0d0887"
            ],
            [
             0.1111111111111111,
             "#46039f"
            ],
            [
             0.2222222222222222,
             "#7201a8"
            ],
            [
             0.3333333333333333,
             "#9c179e"
            ],
            [
             0.4444444444444444,
             "#bd3786"
            ],
            [
             0.5555555555555556,
             "#d8576b"
            ],
            [
             0.6666666666666666,
             "#ed7953"
            ],
            [
             0.7777777777777778,
             "#fb9f3a"
            ],
            [
             0.8888888888888888,
             "#fdca26"
            ],
            [
             1,
             "#f0f921"
            ]
           ],
           "sequentialminus": [
            [
             0,
             "#0d0887"
            ],
            [
             0.1111111111111111,
             "#46039f"
            ],
            [
             0.2222222222222222,
             "#7201a8"
            ],
            [
             0.3333333333333333,
             "#9c179e"
            ],
            [
             0.4444444444444444,
             "#bd3786"
            ],
            [
             0.5555555555555556,
             "#d8576b"
            ],
            [
             0.6666666666666666,
             "#ed7953"
            ],
            [
             0.7777777777777778,
             "#fb9f3a"
            ],
            [
             0.8888888888888888,
             "#fdca26"
            ],
            [
             1,
             "#f0f921"
            ]
           ]
          },
          "colorway": [
           "#636efa",
           "#EF553B",
           "#00cc96",
           "#ab63fa",
           "#FFA15A",
           "#19d3f3",
           "#FF6692",
           "#B6E880",
           "#FF97FF",
           "#FECB52"
          ],
          "font": {
           "color": "#2a3f5f"
          },
          "geo": {
           "bgcolor": "white",
           "lakecolor": "white",
           "landcolor": "#E5ECF6",
           "showlakes": true,
           "showland": true,
           "subunitcolor": "white"
          },
          "hoverlabel": {
           "align": "left"
          },
          "hovermode": "closest",
          "mapbox": {
           "style": "light"
          },
          "paper_bgcolor": "white",
          "plot_bgcolor": "#E5ECF6",
          "polar": {
           "angularaxis": {
            "gridcolor": "white",
            "linecolor": "white",
            "ticks": ""
           },
           "bgcolor": "#E5ECF6",
           "radialaxis": {
            "gridcolor": "white",
            "linecolor": "white",
            "ticks": ""
           }
          },
          "scene": {
           "xaxis": {
            "backgroundcolor": "#E5ECF6",
            "gridcolor": "white",
            "gridwidth": 2,
            "linecolor": "white",
            "showbackground": true,
            "ticks": "",
            "zerolinecolor": "white"
           },
           "yaxis": {
            "backgroundcolor": "#E5ECF6",
            "gridcolor": "white",
            "gridwidth": 2,
            "linecolor": "white",
            "showbackground": true,
            "ticks": "",
            "zerolinecolor": "white"
           },
           "zaxis": {
            "backgroundcolor": "#E5ECF6",
            "gridcolor": "white",
            "gridwidth": 2,
            "linecolor": "white",
            "showbackground": true,
            "ticks": "",
            "zerolinecolor": "white"
           }
          },
          "shapedefaults": {
           "line": {
            "color": "#2a3f5f"
           }
          },
          "ternary": {
           "aaxis": {
            "gridcolor": "white",
            "linecolor": "white",
            "ticks": ""
           },
           "baxis": {
            "gridcolor": "white",
            "linecolor": "white",
            "ticks": ""
           },
           "bgcolor": "#E5ECF6",
           "caxis": {
            "gridcolor": "white",
            "linecolor": "white",
            "ticks": ""
           }
          },
          "title": {
           "x": 0.05
          },
          "xaxis": {
           "automargin": true,
           "gridcolor": "white",
           "linecolor": "white",
           "ticks": "",
           "title": {
            "standoff": 15
           },
           "zerolinecolor": "white",
           "zerolinewidth": 2
          },
          "yaxis": {
           "automargin": true,
           "gridcolor": "white",
           "linecolor": "white",
           "ticks": "",
           "title": {
            "standoff": 15
           },
           "zerolinecolor": "white",
           "zerolinewidth": 2
          }
         }
        },
        "title": {
         "text": "Global Distribution of Edible Insect Research Publications (2015–2025)"
        },
        "width": 1200
       }
      }
     },
     "metadata": {},
     "output_type": "display_data"
    }
   ],
   "source": [
    "import plotly.express as px\n",
    "\n",
    "# Interactive choropleth using Plotly\n",
    "fig = px.choropleth(\n",
    "    df_country,\n",
    "    locations=\"Country\",\n",
    "    locationmode=\"country names\",\n",
    "    color=\"Document_Count\",\n",
    "    hover_name=\"Country\",\n",
    "    color_continuous_scale=\"Blues\",\n",
    "    title=\"Global Distribution of Edible Insect Research Publications (2015–2025)\",\n",
    "    width=1200,   # Set figure width\n",
    "    height=700    # Set figure height\n",
    ")\n",
    "\n",
    "fig.show()\n"
   ]
  },
  {
   "cell_type": "code",
   "execution_count": 25,
   "id": "2132b702",
   "metadata": {},
   "outputs": [
    {
     "data": {
      "image/png": "[encoded data removed]",
      "text/plain": [
       "<Figure size 720x432 with 1 Axes>"
      ]
     },
     "metadata": {
      "needs_background": "light"
     },
     "output_type": "display_data"
    },
    {
     "name": "stdout",
     "output_type": "stream",
     "text": [
      "Results exported to analysis_results.csv\n"
     ]
    }
   ],
   "source": [
    "\n",
    "from sklearn.feature_extraction.text import TfidfVectorizer\n",
    "from sklearn.decomposition import PCA\n",
    "from sklearn.cluster import KMeans\n",
    "import matplotlib.pyplot as plt\n",
    "\n",
    "# Prepare text data\n",
    "corpus = filtered_df['Abstract'].fillna('').astype(str).tolist()\n",
    "\n",
    "# Vectorize with TF-IDF\n",
    "vectorizer = TfidfVectorizer(max_df=0.95, min_df=5, stop_words='english', max_features=5000)\n",
    "X_vec = vectorizer.fit_transform(corpus)\n",
    "\n",
    "# Apply KMeans clustering (6 clusters)\n",
    "kmeans = KMeans(n_clusters=6, random_state=42)\n",
    "clusters = kmeans.fit_predict(X_vec)\n",
    "filtered_df['Cluster'] = clusters\n",
    "\n",
    "# PCA transformation\n",
    "pca = PCA(n_components=2, random_state=42)\n",
    "X_pca = pca.fit_transform(X_vec.toarray())\n",
    "\n",
    "# Plot clusters\n",
    "plt.figure(figsize=(10,6))\n",
    "for cluster_label in sorted(set(clusters)):\n",
    "    mask = (clusters == cluster_label)\n",
    "    plt.scatter(X_pca[mask, 0], X_pca[mask, 1], label=f'Cluster {cluster_label}', alpha=0.5)\n",
    "plt.title('TF-IDF K-Means Clusters (2D PCA projection)')\n",
    "plt.xlabel('Principal Component 1')\n",
    "plt.ylabel('Principal Component 2')\n",
    "plt.legend()\n",
    "plt.grid(True)\n",
    "plt.show()\n",
    "\n",
    "# Export results\n",
    "# Save document titles, years, dominant topics and clusters to CSV\n",
    "export_cols = ['Title', 'Year']\n",
    "if 'Dominant_Topic' in filtered_df.columns:\n",
    "    export_cols.append('Dominant_Topic')\n",
    "export_cols.append('Cluster')\n",
    "\n",
    "export_df = filtered_df[export_cols]\n",
    "export_df.to_csv('analysis_results.csv', index=False)\n",
    "print('Results exported to analysis_results.csv')\n"
   ]
  }
 ],
 "metadata": {
  "kernelspec": {
   "display_name": "Python 3",
   "language": "python",
   "name": "python3"
  },
  "language_info": {
   "codemirror_mode": {
    "name": "ipython",
    "version": 3
   },
   "file_extension": ".py",
   "mimetype": "text/x-python",
   "name": "python",
   "nbconvert_exporter": "python",
   "pygments_lexer": "ipython3",
   "version": "3.9.7"
  }
 },
 "nbformat": 4,
 "nbformat_minor": 5
}
